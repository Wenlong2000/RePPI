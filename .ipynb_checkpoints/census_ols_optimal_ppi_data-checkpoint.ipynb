{
 "cells": [
  {
   "cell_type": "markdown",
   "id": "144e9959-6133-4d8e-aae1-12eca557ffb9",
   "metadata": {},
   "source": [
    "## Import necessary packages"
   ]
  },
  {
   "cell_type": "code",
   "execution_count": 1,
   "id": "24177a3d-50e8-4ac3-9431-694c5d9ba1c9",
   "metadata": {},
   "outputs": [],
   "source": [
    "%load_ext autoreload\n",
    "%autoreload 2\n",
    "import pyreadstat\n",
    "import numpy as np\n",
    "from sklearn.model_selection import train_test_split\n",
    "import xgboost as xgb\n",
    "import scipy\n",
    "import pandas as pd\n",
    "import seaborn as sns\n",
    "from scipy.stats import norm, bernoulli\n",
    "from sklearn.metrics import r2_score\n",
    "import matplotlib.pyplot as plt\n",
    "import os, sys\n",
    "import matplotlib.patheffects as pe\n",
    "from utils1 import make_width_coverage_plot, get_data, transform_features, make_length_table, make_coverage_table, make_error_table\n",
    "import warnings; warnings.simplefilter('ignore')\n",
    "from tqdm import tqdm\n",
    "from ppi_py import classical_ols_ci, ppi_ols_ci\n",
    "from ppi import ppi_opt_ols_ci_crossfit"
   ]
  },
  {
   "cell_type": "code",
   "execution_count": 2,
   "id": "9ae29bc2",
   "metadata": {},
   "outputs": [],
   "source": [
    "np.random.seed(0)"
   ]
  },
  {
   "cell_type": "markdown",
   "id": "4a830629-090f-4215-8990-22dcc4a77cba",
   "metadata": {},
   "source": [
    "## Import the ACS dataset"
   ]
  },
  {
   "cell_type": "code",
   "execution_count": 3,
   "id": "5072ac20-6b71-4d38-bd65-ebdd010f109b",
   "metadata": {},
   "outputs": [
    {
     "name": "stdout",
     "output_type": "stream",
     "text": [
      "1.0\n"
     ]
    }
   ],
   "source": [
    "features = ['AGEP','SCHL','MAR','DIS','ESP','CIT','MIG','MIL','ANC1P','NATIVITY','DEAR','DEYE','DREM','SEX','RAC1P', 'SOCP', 'COW']\n",
    "ft = np.array([\"q\", \"q\", \"c\", \"c\", \"c\", \"c\", \"c\", \"c\", \"c\", \"c\", \"c\", \"c\", \"c\", \"c\", \"c\", \"c\", \"c\"])\n",
    "income_features, income, employed = get_data(year=2019, features=features, outcome='PINCP')\n",
    "print(np.min(income.to_numpy()))\n",
    "# income_features = income_features[:50000]\n",
    "# income = income[:50000]\n",
    "# employed = employed[:50000]"
   ]
  },
  {
   "cell_type": "code",
   "execution_count": 4,
   "id": "e9ab7644-45f0-4edd-a4b2-113fb6ef66ae",
   "metadata": {},
   "outputs": [],
   "source": [
    "n_acs = len(income)\n",
    "n_tr = int(n_acs*0.5)\n",
    "\n",
    "income = np.log(income)\n",
    "\n",
    "income_features_train, income_features_unlabeled, income_train, Y = train_test_split(income_features, income, train_size=n_tr)\n",
    "income_train = income_train.to_numpy()\n",
    "\n",
    "X = np.stack([income_features_unlabeled['AGEP'].to_numpy(), income_features_unlabeled['SEX'].to_numpy()], axis=1)\n",
    "Y = Y.to_numpy()\n",
    "\n",
    "age = income_features['AGEP'].to_numpy()\n",
    "sex = income_features['SEX'].to_numpy()\n",
    "theta_true = np.linalg.pinv(np.stack([age, sex], axis=1)).dot(income.to_numpy())[0] # our estimand is first coordinate (effect of age)"
   ]
  },
  {
   "cell_type": "code",
   "execution_count": null,
   "id": "a0e257c9",
   "metadata": {},
   "outputs": [],
   "source": []
  },
  {
   "cell_type": "code",
   "execution_count": 5,
   "id": "5e7e6170",
   "metadata": {},
   "outputs": [],
   "source": [
    "income_features = income_features.drop(columns=['AGEP', 'SEX'])\n",
    "income_features_train = income_features_train.drop(columns=['AGEP', 'SEX'])\n",
    "income_features_unlabeled = income_features_unlabeled.drop(columns=['AGEP', 'SEX'])\n",
    "ft = np.array([\"q\", \"c\", \"c\", \"c\", \"c\", \"c\", \"c\", \"c\", \"c\", \"c\", \"c\", \"c\", \"c\", \"c\", \"c\"])"
   ]
  },
  {
   "cell_type": "code",
   "execution_count": null,
   "id": "0f6616ce",
   "metadata": {},
   "outputs": [],
   "source": []
  },
  {
   "cell_type": "markdown",
   "id": "c612d904-9294-476a-b1a5-1f50620498d3",
   "metadata": {},
   "source": [
    "### Train XGBoost model"
   ]
  },
  {
   "cell_type": "code",
   "execution_count": null,
   "id": "2dfeedb0-6290-4775-b578-3212691dfb5e",
   "metadata": {},
   "outputs": [],
   "source": [
    "income_features_enc, enc = transform_features(income_features, ft)\n",
    "income_features_train = transform_features(income_features_train, ft, enc)[0]\n",
    "income_features_unlabeled = transform_features(income_features_unlabeled, ft, enc)[0]\n",
    "print(income_features_train.shape, income_train.shape)\n",
    "dtrain = xgb.DMatrix(income_features_train, label=income_train)\n",
    "tree = xgb.train({'eta': 0.3, 'max_depth': 7, 'objective': 'reg:absoluteerror'}, dtrain, 1000)\n",
    "Yhat = tree.predict(xgb.DMatrix(income_features_unlabeled))\n",
    "\n",
    "print(r2_score(Y, Yhat))"
   ]
  },
  {
   "cell_type": "markdown",
   "id": "9a7165c6-266a-42dc-8cd0-bd25cf487b1e",
   "metadata": {},
   "source": [
    "## Main experiment\n",
    "\n",
    "Forms dataframe ```df``` with experiment results. The columns in the dataframe are:\n",
    "\n",
    "- ```lb``` - interval lower bound\n",
    "\n",
    "- ```ub``` - interval upper bound\n",
    "\n",
    "- ```interval width``` - equal to ```ub``` - ```lb```\n",
    "\n",
    "- ```coverage``` - True/False of whether or not interval covered target\n",
    "\n",
    "- ```estimator``` - one of ```classical``` and ```PPI```\n",
    "\n",
    "- ```$n$``` - size of labeled data"
   ]
  },
  {
   "cell_type": "code",
   "execution_count": 7,
   "id": "78d1d478-2b13-4cba-b54b-25ecbf149c2a",
   "metadata": {},
   "outputs": [],
   "source": [
    "n_all = n_acs - n_tr\n",
    "num_trials = 50\n",
    "alpha = 0.1\n",
    "labeled_fracs = np.linspace(0.02,0.10,5)"
   ]
  },
  {
   "cell_type": "code",
   "execution_count": 8,
   "id": "8b7ebcba-562d-4c7d-a9c0-9f09e340d99f",
   "metadata": {},
   "outputs": [
    {
     "name": "stderr",
     "output_type": "stream",
     "text": [
      "100%|████████████████████████████████████████████| 5/5 [10:06<00:00, 121.22s/it]\n"
     ]
    }
   ],
   "source": [
    "results = []\n",
    "columns = [\"lb\", \"ub\", \"interval width\", \"coverage\", \"estimator\", \"n\", \"error\"]\n",
    "temp_df = pd.DataFrame(np.zeros((4,len(columns))), columns=columns)\n",
    "error = np.zeros(4)\n",
    "\n",
    "for j in tqdm(range(len(labeled_fracs))):\n",
    "    n = int(labeled_fracs[j]*n_all)\n",
    "    \n",
    "    for i in range(num_trials):   \n",
    "        labeled = np.random.choice(range(n_all), n, replace=False)\n",
    "        unlabeled = list(set(range(n_all)) - set(labeled))\n",
    "        X_lab = X[labeled]\n",
    "        Y_lab = Y[labeled]\n",
    "        Yhat_lab = Yhat[labeled]\n",
    "        X_unlab = X[unlabeled]\n",
    "        Yhat_unlab = Yhat[unlabeled]\n",
    "        \n",
    "        \n",
    "        l, u = classical_ols_ci(X_lab, Y_lab, alpha=alpha)\n",
    "        coverage = int((theta_true >= l[0])*(theta_true <= u[0]))\n",
    "        mse = np.abs(l[0]+u[0]-2*theta_true)/2\n",
    "        temp_df.loc[0] = l[0], u[0], (u[0] - l[0]), coverage, \"classical\", n, mse\n",
    "        error[0] += mse\n",
    "\n",
    "        l, u = ppi_ols_ci(X_lab, Y_lab, Yhat_lab, X_unlab, Yhat_unlab, alpha=alpha, lhat=1)\n",
    "        coverage = int((theta_true >= l[0])*(theta_true <= u[0]))\n",
    "        mse = np.abs(l[0]+u[0]-2*theta_true)/2\n",
    "        temp_df.loc[1] = l[0], u[0], (u[0] - l[0]), coverage, \"PPI\", n, mse\n",
    "        error[1] += mse\n",
    "\n",
    "        l, u = ppi_ols_ci(X_lab, Y_lab, Yhat_lab, X_unlab, Yhat_unlab, alpha=alpha)\n",
    "        coverage = int((theta_true >= l[0])*(theta_true <= u[0]))\n",
    "        mse = np.abs(l[0]+u[0]-2*theta_true)/2\n",
    "        temp_df.loc[2] = l[0], u[0], (u[0] - l[0]), coverage, \"PPI++\", n, mse\n",
    "        error[2] += mse\n",
    "        \n",
    "        l, u = ppi_opt_ols_ci_crossfit(X_lab, Y_lab, Yhat_lab, X_unlab, Yhat_unlab, alpha=alpha)\n",
    "        coverage = int((theta_true >= l[0])*(theta_true <= u[0]))\n",
    "        mse = np.abs(l[0]+u[0]-2*theta_true)/2\n",
    "        temp_df.loc[3] = l[0], u[0], (u[0] - l[0]), coverage, \"optPPI\", n, mse\n",
    "        error[3] += mse\n",
    "\n",
    "        results += [temp_df.copy()]\n",
    "df = pd.concat(results,ignore_index=True)"
   ]
  },
  {
   "cell_type": "code",
   "execution_count": 9,
   "id": "9937a388-e177-4493-a62f-68d54b40b4b7",
   "metadata": {},
   "outputs": [
    {
     "data": {
      "image/png": "[encoded data removed]",
      "text/plain": [
       "<Figure size 1080x237.6 with 3 Axes>"
      ]
     },
     "metadata": {},
     "output_type": "display_data"
    }
   ],
   "source": [
    "make_width_coverage_plot(df, \"regression coefficient\", \"widths_and_coverage_census_ols.pdf\", theta_true, num_trials = num_trials, n_example_ind = 0)"
   ]
  },
  {
   "cell_type": "code",
   "execution_count": 10,
   "id": "7cc6844a-27e0-40e1-958b-e03bf8dd5140",
   "metadata": {},
   "outputs": [
    {
     "name": "stdout",
     "output_type": "stream",
     "text": [
      "[0.21694976 0.08203516 0.08630358 0.08049209]\n"
     ]
    }
   ],
   "source": [
    "print(error)"
   ]
  },
  {
   "cell_type": "code",
   "execution_count": 11,
   "id": "887bf50b",
   "metadata": {},
   "outputs": [],
   "source": [
    "df.to_csv('result.csv', index=False)"
   ]
  },
  {
   "cell_type": "code",
   "execution_count": 12,
   "id": "006d0bf8",
   "metadata": {},
   "outputs": [
    {
     "name": "stdout",
     "output_type": "stream",
     "text": [
      "   classical       PPI     PPI++    optPPI        n\n",
      "0   0.005544  0.003020  0.003021  0.002926   2702.0\n",
      "1   0.003897  0.002197  0.002192  0.002157   5404.0\n",
      "2   0.003203  0.001850  0.001831  0.001766   8106.0\n",
      "3   0.002791  0.001668  0.001638  0.001611  10808.0\n",
      "4   0.002491  0.001519  0.001481  0.001414  13510.0\n"
     ]
    }
   ],
   "source": [
    "df_width = make_length_table(df)\n",
    "print(df_width)"
   ]
  },
  {
   "cell_type": "code",
   "execution_count": 13,
   "id": "68d43330",
   "metadata": {},
   "outputs": [
    {
     "name": "stdout",
     "output_type": "stream",
     "text": [
      "   classical   PPI  PPI++  optPPI        n\n",
      "0       0.86  0.92   0.92    0.92   2702.0\n",
      "1       0.98  0.98   0.98    0.96   5404.0\n",
      "2       0.76  1.00   0.98    1.00   8106.0\n",
      "3       0.92  1.00   0.98    1.00  10808.0\n",
      "4       1.00  1.00   1.00    1.00  13510.0\n"
     ]
    }
   ],
   "source": [
    "df_cover = make_coverage_table(df)\n",
    "print(df_cover)"
   ]
  },
  {
   "cell_type": "code",
   "execution_count": null,
   "id": "d30db64a",
   "metadata": {},
   "outputs": [],
   "source": []
  }
 ],
 "metadata": {
  "kernelspec": {
   "display_name": "Python 3 (ipykernel)",
   "language": "python",
   "name": "python3"
  },
  "language_info": {
   "codemirror_mode": {
    "name": "ipython",
    "version": 3
   },
   "file_extension": ".py",
   "mimetype": "text/x-python",
   "name": "python",
   "nbconvert_exporter": "python",
   "pygments_lexer": "ipython3",
   "version": "3.9.12"
  }
 },
 "nbformat": 4,
 "nbformat_minor": 5
}
