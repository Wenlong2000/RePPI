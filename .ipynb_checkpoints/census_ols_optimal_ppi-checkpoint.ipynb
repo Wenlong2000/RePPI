{
 "cells": [
  {
   "cell_type": "markdown",
   "id": "144e9959-6133-4d8e-aae1-12eca557ffb9",
   "metadata": {},
   "source": [
    "## Import necessary packages"
   ]
  },
  {
   "cell_type": "code",
   "execution_count": 1,
   "id": "24177a3d-50e8-4ac3-9431-694c5d9ba1c9",
   "metadata": {},
   "outputs": [
    {
     "ename": "ModuleNotFoundError",
     "evalue": "No module named 'utils'",
     "output_type": "error",
     "traceback": [
      "\u001b[0;31m---------------------------------------------------------------------------\u001b[0m",
      "\u001b[0;31mModuleNotFoundError\u001b[0m                       Traceback (most recent call last)",
      "Input \u001b[0;32mIn [1]\u001b[0m, in \u001b[0;36m<cell line: 14>\u001b[0;34m()\u001b[0m\n\u001b[1;32m     12\u001b[0m \u001b[38;5;28;01mimport\u001b[39;00m \u001b[38;5;21;01mos\u001b[39;00m\u001b[38;5;241m,\u001b[39m \u001b[38;5;21;01msys\u001b[39;00m\n\u001b[1;32m     13\u001b[0m \u001b[38;5;28;01mimport\u001b[39;00m \u001b[38;5;21;01mmatplotlib\u001b[39;00m\u001b[38;5;21;01m.\u001b[39;00m\u001b[38;5;21;01mpatheffects\u001b[39;00m \u001b[38;5;28;01mas\u001b[39;00m \u001b[38;5;21;01mpe\u001b[39;00m\n\u001b[0;32m---> 14\u001b[0m \u001b[38;5;28;01mfrom\u001b[39;00m \u001b[38;5;21;01mutils\u001b[39;00m \u001b[38;5;28;01mimport\u001b[39;00m make_width_coverage_plot, get_data, transform_features\n\u001b[1;32m     15\u001b[0m \u001b[38;5;28;01mimport\u001b[39;00m \u001b[38;5;21;01mwarnings\u001b[39;00m; warnings\u001b[38;5;241m.\u001b[39msimplefilter(\u001b[38;5;124m'\u001b[39m\u001b[38;5;124mignore\u001b[39m\u001b[38;5;124m'\u001b[39m)\n\u001b[1;32m     16\u001b[0m \u001b[38;5;28;01mfrom\u001b[39;00m \u001b[38;5;21;01mtqdm\u001b[39;00m \u001b[38;5;28;01mimport\u001b[39;00m tqdm\n",
      "\u001b[0;31mModuleNotFoundError\u001b[0m: No module named 'utils'"
     ]
    }
   ],
   "source": [
    "%load_ext autoreload\n",
    "%autoreload 2\n",
    "import pyreadstat\n",
    "import numpy as np\n",
    "from sklearn.model_selection import train_test_split\n",
    "import xgboost as xgb\n",
    "import scipy\n",
    "import pandas as pd\n",
    "import seaborn as sns\n",
    "from scipy.stats import norm, bernoulli\n",
    "import matplotlib.pyplot as plt\n",
    "import os, sys\n",
    "import matplotlib.patheffects as pe\n",
    "from utils import make_width_coverage_plot, get_data, transform_features\n",
    "import warnings; warnings.simplefilter('ignore')\n",
    "from tqdm import tqdm\n",
    "from ppi_py import classical_ols_ci, ppi_ols_ci"
   ]
  },
  {
   "cell_type": "markdown",
   "id": "4a830629-090f-4215-8990-22dcc4a77cba",
   "metadata": {},
   "source": [
    "## Import the ACS dataset"
   ]
  },
  {
   "cell_type": "code",
   "execution_count": null,
   "id": "5072ac20-6b71-4d38-bd65-ebdd010f109b",
   "metadata": {},
   "outputs": [],
   "source": [
    "features = ['AGEP','SCHL','MAR','DIS','ESP','CIT','MIG','MIL','ANC1P','NATIVITY','DEAR','DEYE','DREM','SEX','RAC1P', 'SOCP', 'COW']\n",
    "ft = np.array([\"q\", \"q\", \"c\", \"c\", \"c\", \"c\", \"c\", \"c\", \"c\", \"c\", \"c\", \"c\", \"c\", \"c\", \"c\", \"c\", \"c\"])\n",
    "income_features, income, employed = get_data(year=2019, features=features, outcome='PINCP')"
   ]
  },
  {
   "cell_type": "code",
   "execution_count": null,
   "id": "e9ab7644-45f0-4edd-a4b2-113fb6ef66ae",
   "metadata": {},
   "outputs": [],
   "source": [
    "n_acs = len(income)\n",
    "n_tr = int(n_acs*0.5)\n",
    "\n",
    "income_features_train, income_features_unlabeled, income_train, Y = train_test_split(income_features, income, train_size=n_tr)\n",
    "income_train = income_train.to_numpy()\n",
    "\n",
    "X = np.stack([income_features_unlabeled['AGEP'].to_numpy(), income_features_unlabeled['SEX'].to_numpy()], axis=1)\n",
    "Y = Y.to_numpy()\n",
    "age = income_features['AGEP'].to_numpy()\n",
    "sex = income_features['SEX'].to_numpy()\n",
    "theta_true = np.linalg.pinv(np.stack([age, sex], axis=1)).dot(income.to_numpy())[0] # our estimand is first coordinate (effect of age)"
   ]
  },
  {
   "cell_type": "markdown",
   "id": "c612d904-9294-476a-b1a5-1f50620498d3",
   "metadata": {},
   "source": [
    "### Train XGBoost model"
   ]
  },
  {
   "cell_type": "code",
   "execution_count": null,
   "id": "2dfeedb0-6290-4775-b578-3212691dfb5e",
   "metadata": {},
   "outputs": [],
   "source": [
    "income_features_enc, enc = transform_features(income_features, ft)\n",
    "income_features_train = transform_features(income_features_train, ft, enc)[0]\n",
    "income_features_unlabeled = transform_features(income_features_unlabeled, ft, enc)[0]\n",
    "\n",
    "dtrain = xgb.DMatrix(income_features_train, label=income_train)\n",
    "tree = xgb.train({'eta': 0.3, 'max_depth': 7, 'objective': 'reg:absoluteerror'}, dtrain, 500)\n",
    "Yhat = tree.predict(xgb.DMatrix(income_features_unlabeled))"
   ]
  },
  {
   "cell_type": "markdown",
   "id": "9a7165c6-266a-42dc-8cd0-bd25cf487b1e",
   "metadata": {},
   "source": [
    "## Main experiment\n",
    "\n",
    "Forms dataframe ```df``` with experiment results. The columns in the dataframe are:\n",
    "\n",
    "- ```lb``` - interval lower bound\n",
    "\n",
    "- ```ub``` - interval upper bound\n",
    "\n",
    "- ```interval width``` - equal to ```ub``` - ```lb```\n",
    "\n",
    "- ```coverage``` - True/False of whether or not interval covered target\n",
    "\n",
    "- ```estimator``` - one of ```classical``` and ```PPI```\n",
    "\n",
    "- ```$n$``` - size of labeled data"
   ]
  },
  {
   "cell_type": "code",
   "execution_count": null,
   "id": "78d1d478-2b13-4cba-b54b-25ecbf149c2a",
   "metadata": {},
   "outputs": [],
   "source": [
    "n_all = n_acs - n_tr\n",
    "num_trials = 10\n",
    "alpha = 0.1\n",
    "labeled_fracs = np.linspace(0.1, 0.3, 2)"
   ]
  },
  {
   "cell_type": "code",
   "execution_count": null,
   "id": "8b7ebcba-562d-4c7d-a9c0-9f09e340d99f",
   "metadata": {},
   "outputs": [],
   "source": [
    "results = []\n",
    "columns = [\"lb\", \"ub\", \"interval width\", \"coverage\", \"estimator\", \"n\"]\n",
    "temp_df = pd.DataFrame(np.zeros((3,len(columns))), columns=columns)\n",
    "\n",
    "\n",
    "for j in tqdm(range(len(labeled_fracs))):\n",
    "    n = int(labeled_fracs[j]*n_all)\n",
    "    \n",
    "    for i in range(num_trials):   \n",
    "        labeled = np.random.choice(range(n_all), n, replace=False)\n",
    "        unlabeled = list(set(range(n_all)) - set(labeled))\n",
    "        X_lab = X[labeled]\n",
    "        Y_lab = Y[labeled]\n",
    "        Yhat_lab = Yhat[labeled]\n",
    "        X_unlab = X[unlabeled]\n",
    "        Yhat_unlab = Yhat[unlabeled]\n",
    "        \n",
    "        \n",
    "        l, u = classical_ols_ci(X_lab, Y_lab, alpha=alpha)\n",
    "        coverage = (theta_true >= l[0])*(theta_true <= u[0])\n",
    "        temp_df.loc[0] = l[0], u[0], (u[0] - l[0]), coverage, \"classical\", n\n",
    "\n",
    "        l, u = ppi_ols_ci(X_lab, Y_lab, Yhat_lab, X_unlab, Yhat_unlab, alpha=alpha, lhat=1)\n",
    "        coverage = (theta_true >= l[0])*(theta_true <= u[0])\n",
    "        temp_df.loc[1] = l[0], u[0], (u[0] - l[0]), coverage, \"PPI\", n\n",
    "\n",
    "        l, u = ppi_ols_ci(X_lab, Y_lab, Yhat_lab, X_unlab, Yhat_unlab, alpha=alpha)\n",
    "        coverage = (theta_true >= l[0])*(theta_true <= u[0])\n",
    "        temp_df.loc[2] = l[0], u[0], (u[0] - l[0]), coverage, \"PPI++\", n\n",
    "\n",
    "        results += [temp_df.copy()]\n",
    "df = pd.concat(results,ignore_index=True)"
   ]
  },
  {
   "cell_type": "code",
   "execution_count": null,
   "id": "9937a388-e177-4493-a62f-68d54b40b4b7",
   "metadata": {},
   "outputs": [],
   "source": [
    "make_width_coverage_plot(df, \"regression coefficient\", \"widths_and_coverage_census_ols.pdf\", theta_true, num_trials = num_trials, n_example_ind = 0)"
   ]
  },
  {
   "cell_type": "code",
   "execution_count": null,
   "id": "7cc6844a-27e0-40e1-958b-e03bf8dd5140",
   "metadata": {},
   "outputs": [],
   "source": []
  }
 ],
 "metadata": {
  "kernelspec": {
   "display_name": "Python 3 (ipykernel)",
   "language": "python",
   "name": "python3"
  },
  "language_info": {
   "codemirror_mode": {
    "name": "ipython",
    "version": 3
   },
   "file_extension": ".py",
   "mimetype": "text/x-python",
   "name": "python",
   "nbconvert_exporter": "python",
   "pygments_lexer": "ipython3",
   "version": "3.9.12"
  }
 },
 "nbformat": 4,
 "nbformat_minor": 5
}
