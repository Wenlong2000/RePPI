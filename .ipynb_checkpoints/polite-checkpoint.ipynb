{
 "cells": [
  {
   "cell_type": "code",
   "execution_count": 1,
   "id": "0ee0465b",
   "metadata": {},
   "outputs": [],
   "source": [
    "%load_ext autoreload\n",
    "%autoreload 2\n",
    "import pandas as pd\n",
    "import numpy as np\n",
    "from scipy.stats import norm, bernoulli\n",
    "import json\n",
    "import warnings; warnings.simplefilter('ignore')\n",
    "from tqdm.auto import tqdm\n",
    "from utils1 import make_width_coverage_plot, get_data, transform_features, make_length_table, make_coverage_table, make_error_table\n",
    "from ppi_py import classical_ols_ci, ppi_ols_ci\n",
    "from ppi import ppi_opt_ols_ci_crossfit"
   ]
  },
  {
   "cell_type": "code",
   "execution_count": 2,
   "id": "60bd242a",
   "metadata": {},
   "outputs": [],
   "source": [
    "data = pd.read_csv('text_data/politeness_dataset.csv')\n",
    "data = data.sample(frac=1).reset_index(drop=True) # shuffle data\n",
    "Yhat_string = data[\"label_gpt4o\"].to_numpy()\n",
    "confidence = data[\"confidence_in_prediction_gpt-4o\"].to_numpy()\n",
    "device = 'hedge' # 'hedge' or '1pp'\n",
    "nan_indices = list(np.where(pd.isna(confidence))[0]) + list(np.where(pd.isna(Yhat_string))[0])\n",
    "good_indices = list(set(range(len(data))) - set(nan_indices))\n",
    "confidence = confidence[good_indices]\n",
    "Yhat_string = Yhat_string[good_indices]\n",
    "Y = data[\"Politeness\"].to_numpy()[good_indices]\n",
    "n = len(Y)\n",
    "dict = {\"A\" : 1, \"B\" : 0}\n",
    "Yhat = np.array([dict[Yhat_string[i]] for i in range(n)])\n",
    "if device == 'hedge':\n",
    "    X_device = data.to_numpy()[:,[4]][good_indices]\n",
    "elif device == '1pp':\n",
    "    X_device = data.to_numpy()[:,[11]][good_indices]\n",
    "X = np.column_stack((X_device, np.ones(n))).astype(float)\n",
    "confidence = confidence.reshape(len(confidence),1)"
   ]
  },
  {
   "cell_type": "code",
   "execution_count": null,
   "id": "6d841f03",
   "metadata": {},
   "outputs": [],
   "source": [
    "num_trials = 50\n",
    "alpha = 0.1\n",
    "labeled_fracs = np.linspace(0.02,0.10,5)"
   ]
  }
 ],
 "metadata": {
  "kernelspec": {
   "display_name": "Python 3 (ipykernel)",
   "language": "python",
   "name": "python3"
  },
  "language_info": {
   "codemirror_mode": {
    "name": "ipython",
    "version": 3
   },
   "file_extension": ".py",
   "mimetype": "text/x-python",
   "name": "python",
   "nbconvert_exporter": "python",
   "pygments_lexer": "ipython3",
   "version": "3.9.12"
  }
 },
 "nbformat": 4,
 "nbformat_minor": 5
}
