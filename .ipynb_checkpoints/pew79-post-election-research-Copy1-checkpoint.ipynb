{
 "cells": [
  {
   "cell_type": "markdown",
   "id": "f000ea5a-3714-46fc-942f-379e1944088e",
   "metadata": {},
   "source": [
    "### Import necessary packages"
   ]
  },
  {
   "cell_type": "code",
   "execution_count": 1,
   "id": "7f654d93-bdc1-4649-912c-9a2351ccdfdc",
   "metadata": {},
   "outputs": [],
   "source": [
    "%load_ext autoreload\n",
    "%autoreload 2\n",
    "import pyreadstat\n",
    "import numpy as np\n",
    "from sklearn.model_selection import train_test_split\n",
    "from sklearn.linear_model import LinearRegression\n",
    "from sklearn.ensemble import RandomForestClassifier\n",
    "import xgboost as xgb\n",
    "import scipy\n",
    "import pandas as pd\n",
    "import seaborn as sns\n",
    "from scipy.stats import norm, bernoulli\n",
    "from sklearn.metrics import r2_score\n",
    "import matplotlib.pyplot as plt\n",
    "import os, sys\n",
    "from tqdm import tqdm\n",
    "import matplotlib.patheffects as pe\n",
    "from utils1 import make_width_coverage_plot, get_data, transform_features, make_length_table, make_coverage_table, make_error_table\n",
    "import warnings; warnings.simplefilter('ignore')\n",
    "from ppi_py import classical_ols_ci, ppi_ols_ci\n",
    "from ppi import ppi_opt_ols_ci_crossfit"
   ]
  },
  {
   "cell_type": "markdown",
   "id": "97a3931a-3da6-4e5b-8e4e-9aa5f44dc478",
   "metadata": {},
   "source": [
    "### Import Pew ATP Wave 79 dataset\n",
    "\n",
    "The dataset is available at: https://www.pewresearch.org/science/dataset/american-trends-panel-wave-79/"
   ]
  },
  {
   "cell_type": "code",
   "execution_count": 2,
   "id": "9697dafe-52a3-481b-8050-472e4b1cefa7",
   "metadata": {},
   "outputs": [
    {
     "data": {
      "text/html": [
       "<div>\n",
       "<style scoped>\n",
       "    .dataframe tbody tr th:only-of-type {\n",
       "        vertical-align: middle;\n",
       "    }\n",
       "\n",
       "    .dataframe tbody tr th {\n",
       "        vertical-align: top;\n",
       "    }\n",
       "\n",
       "    .dataframe thead th {\n",
       "        text-align: right;\n",
       "    }\n",
       "</style>\n",
       "<table border=\"1\" class=\"dataframe\">\n",
       "  <thead>\n",
       "    <tr style=\"text-align: right;\">\n",
       "      <th></th>\n",
       "      <th>QKEY</th>\n",
       "      <th>INTERVIEW_START_W79</th>\n",
       "      <th>INTERVIEW_END_W79</th>\n",
       "      <th>DEVICE_TYPE_W79</th>\n",
       "      <th>LANG_W79</th>\n",
       "      <th>XKNOWPAT_W79</th>\n",
       "      <th>CONF_a_W79</th>\n",
       "      <th>CONF_b_W79</th>\n",
       "      <th>CONF_c_W79</th>\n",
       "      <th>CONF_d_W79</th>\n",
       "      <th>...</th>\n",
       "      <th>F_PARTYLN_FINAL</th>\n",
       "      <th>F_PARTYSUM_FINAL</th>\n",
       "      <th>F_PARTYSUMIDEO</th>\n",
       "      <th>F_INC_SDT1</th>\n",
       "      <th>F_REG</th>\n",
       "      <th>F_IDEO</th>\n",
       "      <th>F_INTFREQ</th>\n",
       "      <th>F_VOLSUM</th>\n",
       "      <th>F_INC_TIER2</th>\n",
       "      <th>WEIGHT_W79</th>\n",
       "    </tr>\n",
       "  </thead>\n",
       "  <tbody>\n",
       "    <tr>\n",
       "      <th>0</th>\n",
       "      <td>1.001970e+05</td>\n",
       "      <td>2020-11-19 19:32:42</td>\n",
       "      <td>2020-11-19 19:57:00</td>\n",
       "      <td>2.0</td>\n",
       "      <td>1.0</td>\n",
       "      <td>1.0</td>\n",
       "      <td>2.0</td>\n",
       "      <td>2.0</td>\n",
       "      <td>1.0</td>\n",
       "      <td>1.0</td>\n",
       "      <td>...</td>\n",
       "      <td>0.0</td>\n",
       "      <td>2.0</td>\n",
       "      <td>3.0</td>\n",
       "      <td>1.0</td>\n",
       "      <td>1.0</td>\n",
       "      <td>3.0</td>\n",
       "      <td>3.0</td>\n",
       "      <td>1.0</td>\n",
       "      <td>2.0</td>\n",
       "      <td>0.324910</td>\n",
       "    </tr>\n",
       "    <tr>\n",
       "      <th>1</th>\n",
       "      <td>1.002600e+05</td>\n",
       "      <td>2020-11-19 19:26:20</td>\n",
       "      <td>2020-11-19 19:46:14</td>\n",
       "      <td>1.0</td>\n",
       "      <td>1.0</td>\n",
       "      <td>1.0</td>\n",
       "      <td>4.0</td>\n",
       "      <td>4.0</td>\n",
       "      <td>1.0</td>\n",
       "      <td>2.0</td>\n",
       "      <td>...</td>\n",
       "      <td>0.0</td>\n",
       "      <td>1.0</td>\n",
       "      <td>1.0</td>\n",
       "      <td>4.0</td>\n",
       "      <td>1.0</td>\n",
       "      <td>1.0</td>\n",
       "      <td>2.0</td>\n",
       "      <td>2.0</td>\n",
       "      <td>2.0</td>\n",
       "      <td>0.207501</td>\n",
       "    </tr>\n",
       "    <tr>\n",
       "      <th>2</th>\n",
       "      <td>1.003140e+05</td>\n",
       "      <td>2020-11-19 12:39:38</td>\n",
       "      <td>2020-11-19 12:53:44</td>\n",
       "      <td>3.0</td>\n",
       "      <td>1.0</td>\n",
       "      <td>1.0</td>\n",
       "      <td>3.0</td>\n",
       "      <td>4.0</td>\n",
       "      <td>3.0</td>\n",
       "      <td>4.0</td>\n",
       "      <td>...</td>\n",
       "      <td>0.0</td>\n",
       "      <td>1.0</td>\n",
       "      <td>2.0</td>\n",
       "      <td>2.0</td>\n",
       "      <td>1.0</td>\n",
       "      <td>3.0</td>\n",
       "      <td>3.0</td>\n",
       "      <td>1.0</td>\n",
       "      <td>2.0</td>\n",
       "      <td>0.397708</td>\n",
       "    </tr>\n",
       "    <tr>\n",
       "      <th>3</th>\n",
       "      <td>1.003630e+05</td>\n",
       "      <td>2020-11-19 18:23:00</td>\n",
       "      <td>2020-11-19 18:34:16</td>\n",
       "      <td>3.0</td>\n",
       "      <td>1.0</td>\n",
       "      <td>2.0</td>\n",
       "      <td>3.0</td>\n",
       "      <td>2.0</td>\n",
       "      <td>2.0</td>\n",
       "      <td>2.0</td>\n",
       "      <td>...</td>\n",
       "      <td>0.0</td>\n",
       "      <td>2.0</td>\n",
       "      <td>3.0</td>\n",
       "      <td>9.0</td>\n",
       "      <td>1.0</td>\n",
       "      <td>3.0</td>\n",
       "      <td>2.0</td>\n",
       "      <td>2.0</td>\n",
       "      <td>2.0</td>\n",
       "      <td>0.669829</td>\n",
       "    </tr>\n",
       "    <tr>\n",
       "      <th>4</th>\n",
       "      <td>1.004460e+05</td>\n",
       "      <td>2020-11-19 17:21:55</td>\n",
       "      <td>2020-11-19 17:31:27</td>\n",
       "      <td>1.0</td>\n",
       "      <td>1.0</td>\n",
       "      <td>1.0</td>\n",
       "      <td>3.0</td>\n",
       "      <td>2.0</td>\n",
       "      <td>2.0</td>\n",
       "      <td>3.0</td>\n",
       "      <td>...</td>\n",
       "      <td>0.0</td>\n",
       "      <td>2.0</td>\n",
       "      <td>4.0</td>\n",
       "      <td>8.0</td>\n",
       "      <td>1.0</td>\n",
       "      <td>4.0</td>\n",
       "      <td>2.0</td>\n",
       "      <td>1.0</td>\n",
       "      <td>2.0</td>\n",
       "      <td>0.168622</td>\n",
       "    </tr>\n",
       "    <tr>\n",
       "      <th>...</th>\n",
       "      <td>...</td>\n",
       "      <td>...</td>\n",
       "      <td>...</td>\n",
       "      <td>...</td>\n",
       "      <td>...</td>\n",
       "      <td>...</td>\n",
       "      <td>...</td>\n",
       "      <td>...</td>\n",
       "      <td>...</td>\n",
       "      <td>...</td>\n",
       "      <td>...</td>\n",
       "      <td>...</td>\n",
       "      <td>...</td>\n",
       "      <td>...</td>\n",
       "      <td>...</td>\n",
       "      <td>...</td>\n",
       "      <td>...</td>\n",
       "      <td>...</td>\n",
       "      <td>...</td>\n",
       "      <td>...</td>\n",
       "      <td>...</td>\n",
       "    </tr>\n",
       "    <tr>\n",
       "      <th>12643</th>\n",
       "      <td>2.020010e+11</td>\n",
       "      <td>2020-11-19 22:41:45</td>\n",
       "      <td>2020-11-20 07:03:58</td>\n",
       "      <td>1.0</td>\n",
       "      <td>1.0</td>\n",
       "      <td>1.0</td>\n",
       "      <td>3.0</td>\n",
       "      <td>4.0</td>\n",
       "      <td>3.0</td>\n",
       "      <td>2.0</td>\n",
       "      <td>...</td>\n",
       "      <td>0.0</td>\n",
       "      <td>1.0</td>\n",
       "      <td>2.0</td>\n",
       "      <td>9.0</td>\n",
       "      <td>1.0</td>\n",
       "      <td>3.0</td>\n",
       "      <td>1.0</td>\n",
       "      <td>1.0</td>\n",
       "      <td>3.0</td>\n",
       "      <td>0.341428</td>\n",
       "    </tr>\n",
       "    <tr>\n",
       "      <th>12644</th>\n",
       "      <td>2.020010e+11</td>\n",
       "      <td>2020-11-22 13:25:39</td>\n",
       "      <td>2020-11-22 13:37:17</td>\n",
       "      <td>1.0</td>\n",
       "      <td>1.0</td>\n",
       "      <td>1.0</td>\n",
       "      <td>3.0</td>\n",
       "      <td>3.0</td>\n",
       "      <td>2.0</td>\n",
       "      <td>2.0</td>\n",
       "      <td>...</td>\n",
       "      <td>2.0</td>\n",
       "      <td>2.0</td>\n",
       "      <td>4.0</td>\n",
       "      <td>2.0</td>\n",
       "      <td>1.0</td>\n",
       "      <td>4.0</td>\n",
       "      <td>2.0</td>\n",
       "      <td>2.0</td>\n",
       "      <td>2.0</td>\n",
       "      <td>0.830557</td>\n",
       "    </tr>\n",
       "    <tr>\n",
       "      <th>12645</th>\n",
       "      <td>2.020010e+11</td>\n",
       "      <td>2020-11-24 10:41:06</td>\n",
       "      <td>2020-11-24 10:53:34</td>\n",
       "      <td>1.0</td>\n",
       "      <td>1.0</td>\n",
       "      <td>2.0</td>\n",
       "      <td>3.0</td>\n",
       "      <td>4.0</td>\n",
       "      <td>1.0</td>\n",
       "      <td>4.0</td>\n",
       "      <td>...</td>\n",
       "      <td>0.0</td>\n",
       "      <td>1.0</td>\n",
       "      <td>2.0</td>\n",
       "      <td>5.0</td>\n",
       "      <td>1.0</td>\n",
       "      <td>3.0</td>\n",
       "      <td>1.0</td>\n",
       "      <td>2.0</td>\n",
       "      <td>2.0</td>\n",
       "      <td>0.302125</td>\n",
       "    </tr>\n",
       "    <tr>\n",
       "      <th>12646</th>\n",
       "      <td>2.020010e+11</td>\n",
       "      <td>2020-11-20 15:16:27</td>\n",
       "      <td>2020-11-20 15:27:17</td>\n",
       "      <td>3.0</td>\n",
       "      <td>1.0</td>\n",
       "      <td>1.0</td>\n",
       "      <td>3.0</td>\n",
       "      <td>2.0</td>\n",
       "      <td>3.0</td>\n",
       "      <td>3.0</td>\n",
       "      <td>...</td>\n",
       "      <td>0.0</td>\n",
       "      <td>2.0</td>\n",
       "      <td>4.0</td>\n",
       "      <td>9.0</td>\n",
       "      <td>1.0</td>\n",
       "      <td>5.0</td>\n",
       "      <td>1.0</td>\n",
       "      <td>1.0</td>\n",
       "      <td>3.0</td>\n",
       "      <td>0.358541</td>\n",
       "    </tr>\n",
       "    <tr>\n",
       "      <th>12647</th>\n",
       "      <td>2.020010e+11</td>\n",
       "      <td>2020-11-19 17:41:05</td>\n",
       "      <td>2020-11-19 18:05:52</td>\n",
       "      <td>1.0</td>\n",
       "      <td>1.0</td>\n",
       "      <td>1.0</td>\n",
       "      <td>2.0</td>\n",
       "      <td>1.0</td>\n",
       "      <td>1.0</td>\n",
       "      <td>2.0</td>\n",
       "      <td>...</td>\n",
       "      <td>0.0</td>\n",
       "      <td>2.0</td>\n",
       "      <td>4.0</td>\n",
       "      <td>7.0</td>\n",
       "      <td>1.0</td>\n",
       "      <td>5.0</td>\n",
       "      <td>2.0</td>\n",
       "      <td>2.0</td>\n",
       "      <td>2.0</td>\n",
       "      <td>0.749215</td>\n",
       "    </tr>\n",
       "  </tbody>\n",
       "</table>\n",
       "<p>12648 rows × 160 columns</p>\n",
       "</div>"
      ],
      "text/plain": [
       "               QKEY INTERVIEW_START_W79   INTERVIEW_END_W79  DEVICE_TYPE_W79  \\\n",
       "0      1.001970e+05 2020-11-19 19:32:42 2020-11-19 19:57:00              2.0   \n",
       "1      1.002600e+05 2020-11-19 19:26:20 2020-11-19 19:46:14              1.0   \n",
       "2      1.003140e+05 2020-11-19 12:39:38 2020-11-19 12:53:44              3.0   \n",
       "3      1.003630e+05 2020-11-19 18:23:00 2020-11-19 18:34:16              3.0   \n",
       "4      1.004460e+05 2020-11-19 17:21:55 2020-11-19 17:31:27              1.0   \n",
       "...             ...                 ...                 ...              ...   \n",
       "12643  2.020010e+11 2020-11-19 22:41:45 2020-11-20 07:03:58              1.0   \n",
       "12644  2.020010e+11 2020-11-22 13:25:39 2020-11-22 13:37:17              1.0   \n",
       "12645  2.020010e+11 2020-11-24 10:41:06 2020-11-24 10:53:34              1.0   \n",
       "12646  2.020010e+11 2020-11-20 15:16:27 2020-11-20 15:27:17              3.0   \n",
       "12647  2.020010e+11 2020-11-19 17:41:05 2020-11-19 18:05:52              1.0   \n",
       "\n",
       "       LANG_W79  XKNOWPAT_W79  CONF_a_W79  CONF_b_W79  CONF_c_W79  CONF_d_W79  \\\n",
       "0           1.0           1.0         2.0         2.0         1.0         1.0   \n",
       "1           1.0           1.0         4.0         4.0         1.0         2.0   \n",
       "2           1.0           1.0         3.0         4.0         3.0         4.0   \n",
       "3           1.0           2.0         3.0         2.0         2.0         2.0   \n",
       "4           1.0           1.0         3.0         2.0         2.0         3.0   \n",
       "...         ...           ...         ...         ...         ...         ...   \n",
       "12643       1.0           1.0         3.0         4.0         3.0         2.0   \n",
       "12644       1.0           1.0         3.0         3.0         2.0         2.0   \n",
       "12645       1.0           2.0         3.0         4.0         1.0         4.0   \n",
       "12646       1.0           1.0         3.0         2.0         3.0         3.0   \n",
       "12647       1.0           1.0         2.0         1.0         1.0         2.0   \n",
       "\n",
       "       ...  F_PARTYLN_FINAL  F_PARTYSUM_FINAL  F_PARTYSUMIDEO  F_INC_SDT1  \\\n",
       "0      ...              0.0               2.0             3.0         1.0   \n",
       "1      ...              0.0               1.0             1.0         4.0   \n",
       "2      ...              0.0               1.0             2.0         2.0   \n",
       "3      ...              0.0               2.0             3.0         9.0   \n",
       "4      ...              0.0               2.0             4.0         8.0   \n",
       "...    ...              ...               ...             ...         ...   \n",
       "12643  ...              0.0               1.0             2.0         9.0   \n",
       "12644  ...              2.0               2.0             4.0         2.0   \n",
       "12645  ...              0.0               1.0             2.0         5.0   \n",
       "12646  ...              0.0               2.0             4.0         9.0   \n",
       "12647  ...              0.0               2.0             4.0         7.0   \n",
       "\n",
       "       F_REG  F_IDEO  F_INTFREQ  F_VOLSUM  F_INC_TIER2  WEIGHT_W79  \n",
       "0        1.0     3.0        3.0       1.0          2.0    0.324910  \n",
       "1        1.0     1.0        2.0       2.0          2.0    0.207501  \n",
       "2        1.0     3.0        3.0       1.0          2.0    0.397708  \n",
       "3        1.0     3.0        2.0       2.0          2.0    0.669829  \n",
       "4        1.0     4.0        2.0       1.0          2.0    0.168622  \n",
       "...      ...     ...        ...       ...          ...         ...  \n",
       "12643    1.0     3.0        1.0       1.0          3.0    0.341428  \n",
       "12644    1.0     4.0        2.0       2.0          2.0    0.830557  \n",
       "12645    1.0     3.0        1.0       2.0          2.0    0.302125  \n",
       "12646    1.0     5.0        1.0       1.0          3.0    0.358541  \n",
       "12647    1.0     5.0        2.0       2.0          2.0    0.749215  \n",
       "\n",
       "[12648 rows x 160 columns]"
      ]
     },
     "execution_count": 2,
     "metadata": {},
     "output_type": "execute_result"
    }
   ],
   "source": [
    "data, meta = pyreadstat.read_sav(\"pew/ATP W79.sav\")\n",
    "data.fillna(0)"
   ]
  },
  {
   "cell_type": "markdown",
   "id": "c26b238d-e85c-454d-8f8c-88b18d5ed89f",
   "metadata": {},
   "source": [
    "### Problem setup\n",
    "\n",
    "Specify estimand of interest (average approval of Biden's messaging or average approval of Trump's messaging) and compute ground-truth value of the estimand. Split data into labeled and unlabeled subsets. Specify range of budgets in fractional form $n_b/n$."
   ]
  },
  {
   "cell_type": "code",
   "execution_count": 3,
   "id": "945f90ea-876e-4bec-9bda-12b4a9135714",
   "metadata": {},
   "outputs": [
    {
     "name": "stdout",
     "output_type": "stream",
     "text": [
      "(12098, 3)\n"
     ]
    }
   ],
   "source": [
    "question = \"ELECTBIDENMSSG_W79\" # can choose ELECTBIDENMSSG_W79 or ELECTTRUMPMSSG_W79 \n",
    "idx_keep = np.where(data[question] != 99)[0]\n",
    "feature1 = [\"LANG_W79\", 'F_EDUCCAT', 'F_AGECAT', 'F_GENDER', 'F_INC_TIER2', 'F_INC_SDT1', 'CONF_a_W79', 'F_RELIG','F_INTFREQ']\n",
    "feature2 = [\"F_PARTYSUM_FINAL\",'COVIDTHREAT_a_W79','COVIDFOL_W79','COVIDMASK1_W79', 'COVID_SCI6E_W79']\n",
    "Y_all = data[question].to_numpy()[idx_keep]<2.5\n",
    "X_all = data[feature1+feature2].to_numpy()[idx_keep]\n",
    "X_all = np.hstack((X_all, np.ones((Y_all.shape[0],1))))\n",
    "index = np.where(np.mean(X_all[:,-5:],axis=1)<10)[0]\n",
    "X_all = X_all[index]\n",
    "Y_all = Y_all[index]\n",
    "print(X_all[:,-5:].shape)\n",
    "model = LinearRegression().fit(X_all[:,-5:], Y_all)\n",
    "theta_true = model.coef_[0]\n",
    "X_train, X_unlabeled, Y_train, Y = train_test_split(X_all, Y_all*1, test_size=0.5)"
   ]
  },
  {
   "cell_type": "code",
   "execution_count": 4,
   "id": "fc8edefa-cb57-4e13-9398-9b796eda9d18",
   "metadata": {},
   "outputs": [],
   "source": [
    "X_train = X_train[:, :-3]\n",
    "X = X_unlabeled[:,-3:]\n",
    "X_unlabeled = X_unlabeled[:,:-3]\n",
    "\n",
    "\n"
   ]
  },
  {
   "cell_type": "markdown",
   "id": "83a1ad32-3ebc-42f4-9822-13dfa67def98",
   "metadata": {},
   "source": [
    "### Train XGBoost model\n",
    "\n",
    "Train XGBoost model on labeled data and compute model uncertainty for unlabeled instances."
   ]
  },
  {
   "cell_type": "code",
   "execution_count": 5,
   "id": "ecec7285-f3be-4897-9d5c-6316f313e5aa",
   "metadata": {},
   "outputs": [],
   "source": [
    "dtrain = xgb.DMatrix(X_train, label=Y_train)\n",
    "tree = xgb.train({'eta': 0.001, 'max_depth': 5, 'objective': 'reg:logistic'}, dtrain, 3000)\n",
    "Yhat = tree.predict(xgb.DMatrix(X_unlabeled))\n",
    "\n"
   ]
  },
  {
   "cell_type": "code",
   "execution_count": 6,
   "id": "4c31b741",
   "metadata": {},
   "outputs": [
    {
     "name": "stdout",
     "output_type": "stream",
     "text": [
      "0.1524954318796694\n"
     ]
    }
   ],
   "source": [
    "print(r2_score(Y,Yhat))\n",
    "\n"
   ]
  },
  {
   "cell_type": "markdown",
   "id": "9c02fa84-ebbe-40a5-9100-a89f827ff098",
   "metadata": {},
   "source": [
    "### Tune mixing parameter $\\tau$\n",
    "\n",
    "The sampling rule is $\\pi^{(\\tau)}(x) = (1-\\tau) \\cdot \\hat \\eta \\cdot u(x) + \\tau \\cdot \\pi^{\\mathrm{unif}}(x)$. The following code tunes $\\tau$ based on training data, finding one value of $\\tau$ per budget size."
   ]
  },
  {
   "cell_type": "code",
   "execution_count": 7,
   "id": "fa7424e7",
   "metadata": {},
   "outputs": [],
   "source": [
    "num_trials = 50\n",
    "alpha = 0.1\n",
    "labeled_fracs = np.linspace(0.1,0.5,5)"
   ]
  },
  {
   "cell_type": "code",
   "execution_count": null,
   "id": "44dc0120-332d-4958-892a-3d6854691f8b",
   "metadata": {},
   "outputs": [],
   "source": []
  },
  {
   "cell_type": "markdown",
   "id": "e0c68866-6ce8-40f5-88c8-f1633d5433ff",
   "metadata": {},
   "source": [
    "### Main experiment\n",
    "\n",
    "Forms dataframe ```df``` with experiment results. The columns in the dataframe are:\n",
    "\n",
    "- ```lb``` - interval lower bound\n",
    "\n",
    "- ```ub``` - interval upper bound\n",
    "\n",
    "- ```interval width``` - equal to ```ub``` - ```lb```\n",
    "\n",
    "- ```coverage``` - 0/1 indicator of whether or not interval covered target\n",
    "\n",
    "- ```estimator``` - one of ```classical```, ```uniform```, or ```active```\n",
    "\n",
    "- ```$n_b$``` - budget size "
   ]
  },
  {
   "cell_type": "code",
   "execution_count": 8,
   "id": "3eb15ef2-48f7-4524-834d-2758a87364cf",
   "metadata": {},
   "outputs": [
    {
     "name": "stderr",
     "output_type": "stream",
     "text": [
      "100%|███████████████████████████████████████████████| 5/5 [00:16<00:00,  3.30s/it]\n"
     ]
    }
   ],
   "source": [
    "results = []\n",
    "columns = [\"lb\", \"ub\", \"interval width\", \"coverage\", \"estimator\", \"n\", \"error\"]\n",
    "temp_df = pd.DataFrame(np.zeros((4,len(columns))), columns=columns)\n",
    "error = np.zeros(4)\n",
    "\n",
    "for j in tqdm(range(len(labeled_fracs))):\n",
    "    n = int(labeled_fracs[j]*Y.shape[0])\n",
    "    \n",
    "    for i in range(num_trials):   \n",
    "        labeled = np.random.choice(range(Y.shape[0]), n, replace=False)\n",
    "        unlabeled = list(set(range(Y.shape[0])) - set(labeled))\n",
    "        X_lab = X[labeled]\n",
    "        Y_lab = Y[labeled]\n",
    "        Yhat_lab = Yhat[labeled]\n",
    "        X_unlab = X[unlabeled]\n",
    "        Yhat_unlab = Yhat[unlabeled]\n",
    "        \n",
    "        \n",
    "        l, u = classical_ols_ci(X_lab, Y_lab, alpha=alpha)\n",
    "        coverage = int((theta_true >= l[0])*(theta_true <= u[0]))\n",
    "        mse = np.abs(l[0]+u[0]-2*theta_true)/2\n",
    "        temp_df.loc[0] = l[0], u[0], (u[0] - l[0]), coverage, \"classical\", n, mse\n",
    "        error[0] += mse\n",
    "\n",
    "        l, u = ppi_ols_ci(X_lab, Y_lab, Yhat_lab, X_unlab, Yhat_unlab, alpha=alpha, lhat=1)\n",
    "        coverage = int((theta_true >= l[0])*(theta_true <= u[0]))\n",
    "        mse = np.abs(l[0]+u[0]-2*theta_true)/2\n",
    "        temp_df.loc[1] = l[0], u[0], (u[0] - l[0]), coverage, \"PPI\", n, mse\n",
    "        error[1] += mse\n",
    "\n",
    "        l, u = ppi_ols_ci(X_lab, Y_lab, Yhat_lab, X_unlab, Yhat_unlab, alpha=alpha)\n",
    "        coverage = int((theta_true >= l[0])*(theta_true <= u[0]))\n",
    "        mse = np.abs(l[0]+u[0]-2*theta_true)/2\n",
    "        temp_df.loc[2] = l[0], u[0], (u[0] - l[0]), coverage, \"PPI++\", n, mse\n",
    "        error[2] += mse\n",
    "        \n",
    "        l, u = ppi_opt_ols_ci_crossfit(X_lab, Y_lab, Yhat_lab, X_unlab, Yhat_unlab, alpha=alpha, method='linreg')\n",
    "        coverage = int((theta_true >= l[0])*(theta_true <= u[0]))\n",
    "        mse = np.abs(l[0]+u[0]-2*theta_true)/2\n",
    "        temp_df.loc[3] = l[0], u[0], (u[0] - l[0]), coverage, \"optPPI\", n, mse\n",
    "        error[3] += mse\n",
    "\n",
    "        results += [temp_df.copy()]\n",
    "df = pd.concat(results,ignore_index=True)"
   ]
  },
  {
   "cell_type": "code",
   "execution_count": 9,
   "id": "a29b4742-2b91-47e6-8886-61310902bea3",
   "metadata": {},
   "outputs": [
    {
     "data": {
      "text/plain": [
       "(array([2505.,    0.,    0.,    0.,    0.,    0.,    0.,    0.,    0.,\n",
       "        3544.]),\n",
       " array([1. , 1.1, 1.2, 1.3, 1.4, 1.5, 1.6, 1.7, 1.8, 1.9, 2. ]),\n",
       " <BarContainer object of 10 artists>)"
      ]
     },
     "execution_count": 9,
     "metadata": {},
     "output_type": "execute_result"
    },
    {
     "data": {
      "image/png": "[encoded data removed]",
      "text/plain": [
       "<Figure size 432x288 with 1 Axes>"
      ]
     },
     "metadata": {
      "needs_background": "light"
     },
     "output_type": "display_data"
    }
   ],
   "source": [
    "plt.hist(X[:,0])\n",
    "\n",
    "\n",
    "\n"
   ]
  },
  {
   "cell_type": "markdown",
   "id": "67748ef1-c357-4c5d-af14-6e8068e0b911",
   "metadata": {},
   "source": [
    "### Plot coverage and interval width"
   ]
  },
  {
   "cell_type": "code",
   "execution_count": 10,
   "id": "075ae920-7804-4459-b14a-825fbe3c81f1",
   "metadata": {},
   "outputs": [
    {
     "data": {
      "image/png": "[encoded data removed]",
      "text/plain": [
       "<Figure size 1080x237.6 with 3 Axes>"
      ]
     },
     "metadata": {},
     "output_type": "display_data"
    }
   ],
   "source": [
    "make_width_coverage_plot(df, \"regression coefficient\", \"widths_and_coverage_census_ols.pdf\", theta_true, num_trials = num_trials, n_example_ind = 0)"
   ]
  },
  {
   "cell_type": "markdown",
   "id": "2a099f96-3f4e-414d-bf80-92638592bc2a",
   "metadata": {},
   "source": [
    "### Plot budget saved"
   ]
  },
  {
   "cell_type": "code",
   "execution_count": 11,
   "id": "fe7c5abe-2afd-441d-96dc-2cb06a97c46b",
   "metadata": {},
   "outputs": [
    {
     "name": "stdout",
     "output_type": "stream",
     "text": [
      "   classical       PPI     PPI++    optPPI       n\n",
      "0   0.129827  0.133690  0.128150  0.130526   604.0\n",
      "1   0.092664  0.095985  0.090696  0.091520  1209.0\n",
      "2   0.075303  0.079600  0.074258  0.074486  1814.0\n",
      "3   0.065012  0.070591  0.064546  0.064603  2419.0\n",
      "4   0.058179  0.064990  0.057965  0.057991  3024.0\n"
     ]
    }
   ],
   "source": [
    "df_width = make_length_table(df)\n",
    "print(df_width)"
   ]
  },
  {
   "cell_type": "code",
   "execution_count": 12,
   "id": "51ae476c",
   "metadata": {},
   "outputs": [
    {
     "name": "stdout",
     "output_type": "stream",
     "text": [
      "   classical   PPI  PPI++  optPPI       n\n",
      "0       0.88  0.90   0.86    0.84   604.0\n",
      "1       0.90  0.90   0.90    0.90  1209.0\n",
      "2       0.92  0.92   0.92    0.92  1814.0\n",
      "3       0.98  1.00   0.98    0.98  2419.0\n",
      "4       0.96  0.98   0.98    0.98  3024.0\n"
     ]
    }
   ],
   "source": [
    "df_cover = make_coverage_table(df)\n",
    "print(df_cover)"
   ]
  },
  {
   "cell_type": "code",
   "execution_count": 13,
   "id": "238eebfa",
   "metadata": {},
   "outputs": [
    {
     "name": "stdout",
     "output_type": "stream",
     "text": [
      "[4.73524385 4.74274235 4.63749999 4.75368269]\n"
     ]
    }
   ],
   "source": [
    "print(error)"
   ]
  },
  {
   "cell_type": "code",
   "execution_count": null,
   "id": "203eb138",
   "metadata": {},
   "outputs": [],
   "source": []
  }
 ],
 "metadata": {
  "kernelspec": {
   "display_name": "Python 3 (ipykernel)",
   "language": "python",
   "name": "python3"
  },
  "language_info": {
   "codemirror_mode": {
    "name": "ipython",
    "version": 3
   },
   "file_extension": ".py",
   "mimetype": "text/x-python",
   "name": "python",
   "nbconvert_exporter": "python",
   "pygments_lexer": "ipython3",
   "version": "3.9.12"
  }
 },
 "nbformat": 4,
 "nbformat_minor": 5
}
