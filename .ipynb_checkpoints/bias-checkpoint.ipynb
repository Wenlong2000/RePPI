{
 "cells": [
  {
   "cell_type": "code",
   "execution_count": 1,
   "id": "0ee0465b",
   "metadata": {},
   "outputs": [],
   "source": [
    "%load_ext autoreload\n",
    "%autoreload 2\n",
    "import pandas as pd\n",
    "import numpy as np\n",
    "from scipy.stats import norm, bernoulli\n",
    "import json\n",
    "import warnings; warnings.simplefilter('ignore')\n",
    "from tqdm.auto import tqdm\n",
    "from utils1 import make_width_coverage_plot, get_data, transform_features, make_length_table, make_coverage_table, make_error_table\n",
    "from ppi_py import classical_ols_ci, ppi_ols_ci\n",
    "from ppi import ppi_opt_ols_ci_crossfit"
   ]
  },
  {
   "cell_type": "code",
   "execution_count": 2,
   "id": "60bd242a",
   "metadata": {},
   "outputs": [],
   "source": [
    "data = pd.read_csv('text_data/politeness_dataset.csv')\n",
    "data = data.sample(frac=1).reset_index(drop=True) # shuffle data\n",
    "Yhat_string = data[\"label_gpt-3.5\"].to_numpy()\n",
    "confidence = data[\"confidence_in_prediction_gpt-4o\"].to_numpy()\n",
    "device = 'hedge' # 'hedge' or '1pp'\n",
    "nan_indices = list(np.where(pd.isna(confidence))[0]) + list(np.where(pd.isna(Yhat_string))[0])\n",
    "good_indices = list(set(range(len(data))) - set(nan_indices))\n",
    "confidence = confidence[good_indices]\n",
    "Yhat_string = Yhat_string[good_indices]\n",
    "Y = data[\"Politeness\"].to_numpy()[good_indices]\n",
    "n = len(Y)\n",
    "dict = {\"A\" : 1, \"B\" : 0}\n",
    "Yhat = np.array([dict[Yhat_string[i]] for i in range(n)])\n",
    "if device == 'hedge':\n",
    "    X_device = data.to_numpy()[:,[4]][good_indices]\n",
    "elif device == '1pp':\n",
    "    X_device = data.to_numpy()[:,[11]][good_indices]\n",
    "X = np.column_stack((X_device, np.ones(n))).astype(float)\n",
    "confidence = confidence.reshape(len(confidence),1)\n",
    "\n"
   ]
  },
  {
   "cell_type": "code",
   "execution_count": 3,
   "id": "68be2a7b",
   "metadata": {},
   "outputs": [
    {
     "name": "stdout",
     "output_type": "stream",
     "text": [
      "[[ 4.84935557 -1.40993309]\n",
      " [-1.40993309  1.40993309]]\n"
     ]
    }
   ],
   "source": [
    "print(np.linalg.inv(X.T@X/5479))"
   ]
  },
  {
   "cell_type": "code",
   "execution_count": 4,
   "id": "e9498109",
   "metadata": {},
   "outputs": [],
   "source": [
    "from sklearn.linear_model import LinearRegression\n",
    "model = LinearRegression(fit_intercept=False)\n",
    "result = model.fit(X, Y)\n",
    "target_index = 0\n",
    "theta_true = result.coef_[target_index]\n"
   ]
  },
  {
   "cell_type": "code",
   "execution_count": 5,
   "id": "6d841f03",
   "metadata": {},
   "outputs": [],
   "source": [
    "num_trials = 50\n",
    "alpha = 0.1\n",
    "labeled_fracs = np.linspace(0.20,0.30,5)\n",
    "n_all = Y.shape[0]"
   ]
  },
  {
   "cell_type": "code",
   "execution_count": 6,
   "id": "f4b371dc",
   "metadata": {},
   "outputs": [
    {
     "data": {
      "application/vnd.jupyter.widget-view+json": {
       "model_id": "e9ad506f70e0489ab421e979c93219ae",
       "version_major": 2,
       "version_minor": 0
      },
      "text/plain": [
       "  0%|          | 0/5 [00:00<?, ?it/s]"
      ]
     },
     "metadata": {},
     "output_type": "display_data"
    },
    {
     "data": {
      "application/vnd.jupyter.widget-view+json": {
       "model_id": "51e60b8f3dd347a5aaea6738fcda658b",
       "version_major": 2,
       "version_minor": 0
      },
      "text/plain": [
       "  0%|          | 0/50 [00:00<?, ?it/s]"
      ]
     },
     "metadata": {},
     "output_type": "display_data"
    },
    {
     "data": {
      "application/vnd.jupyter.widget-view+json": {
       "model_id": "00a8c119a22040a7a57cfccb8a25fd1f",
       "version_major": 2,
       "version_minor": 0
      },
      "text/plain": [
       "  0%|          | 0/50 [00:00<?, ?it/s]"
      ]
     },
     "metadata": {},
     "output_type": "display_data"
    },
    {
     "data": {
      "application/vnd.jupyter.widget-view+json": {
       "model_id": "758a25b6d1294d03b82d9d5c3e3757cd",
       "version_major": 2,
       "version_minor": 0
      },
      "text/plain": [
       "  0%|          | 0/50 [00:00<?, ?it/s]"
      ]
     },
     "metadata": {},
     "output_type": "display_data"
    },
    {
     "data": {
      "application/vnd.jupyter.widget-view+json": {
       "model_id": "75b5396130af4226960433398751c32f",
       "version_major": 2,
       "version_minor": 0
      },
      "text/plain": [
       "  0%|          | 0/50 [00:00<?, ?it/s]"
      ]
     },
     "metadata": {},
     "output_type": "display_data"
    },
    {
     "data": {
      "application/vnd.jupyter.widget-view+json": {
       "model_id": "dd0a63b19c6e4c419abf6a9db4d0f97d",
       "version_major": 2,
       "version_minor": 0
      },
      "text/plain": [
       "  0%|          | 0/50 [00:00<?, ?it/s]"
      ]
     },
     "metadata": {},
     "output_type": "display_data"
    }
   ],
   "source": [
    "results = []\n",
    "columns = [\"lb\", \"ub\", \"interval width\", \"coverage\", \"estimator\", \"n\", \"mse\"]\n",
    "temp_df = pd.DataFrame(np.zeros((4,len(columns))), columns=columns)\n",
    "error = np.zeros(4)\n",
    "\n",
    "for j in tqdm(range(len(labeled_fracs))):\n",
    "    n = int(labeled_fracs[j]*n_all)\n",
    "    \n",
    "    for i in tqdm(range(num_trials)):   \n",
    "        labeled = np.random.choice(range(n_all), n, replace=False)\n",
    "        unlabeled = list(set(range(n_all)) - set(labeled))\n",
    "        X_lab = X[labeled]\n",
    "        Y_lab = Y[labeled]\n",
    "        Yhat_lab = Yhat[labeled]\n",
    "        X_unlab = X[unlabeled]\n",
    "        Yhat_unlab = Yhat[unlabeled]\n",
    "        \n",
    "        \n",
    "        l, u = classical_ols_ci(X_lab, Y_lab, alpha=alpha)\n",
    "        coverage = int((theta_true >= l[target_index])*(theta_true <= u[target_index]))\n",
    "        mse = np.abs(l[target_index]+u[target_index]-2*theta_true)/2\n",
    "        temp_df.loc[0] = l[target_index], u[target_index], (u[target_index] - l[target_index]), coverage, \"classical\", n, mse\n",
    "        error[0] += mse\n",
    "\n",
    "        l, u = ppi_ols_ci(X_lab, Y_lab, Yhat_lab, X_unlab, Yhat_unlab, alpha=alpha, lhat=1)\n",
    "        coverage = int((theta_true >= l[target_index])*(theta_true <= u[target_index]))\n",
    "        mse = np.abs(l[target_index]+u[target_index]-2*theta_true)/2\n",
    "        temp_df.loc[1] = l[target_index], u[target_index], (u[target_index] - l[target_index]), coverage, \"PPI\", n, mse\n",
    "        error[1] += mse\n",
    "\n",
    "        l, u = ppi_ols_ci(X_lab, Y_lab, Yhat_lab, X_unlab, Yhat_unlab, alpha=alpha)\n",
    "        coverage = int((theta_true >= l[target_index])*(theta_true <= u[target_index]))\n",
    "        mse = np.abs(l[target_index]+u[target_index]-2*theta_true)/2\n",
    "        temp_df.loc[2] = l[target_index], u[target_index], (u[target_index] - l[target_index]), coverage, \"PPI++\", n, mse\n",
    "        error[2] += mse\n",
    "        \n",
    "        l, u = ppi_opt_ols_ci_crossfit(X_lab, Y_lab, Yhat_lab, X_unlab, Yhat_unlab, alpha=alpha, method='linreg')\n",
    "        coverage = int((theta_true >= l[target_index])*(theta_true <= u[target_index]))\n",
    "        mse = np.abs(l[target_index]+u[target_index]-2*theta_true)/2\n",
    "        temp_df.loc[3] = l[target_index], u[target_index], (u[target_index] - l[target_index]), coverage, \"EPPI\", n, mse\n",
    "        error[3] += mse\n",
    "\n",
    "        results += [temp_df.copy()]\n",
    "df = pd.concat(results,ignore_index=True)"
   ]
  },
  {
   "cell_type": "code",
   "execution_count": 7,
   "id": "46eb65d6",
   "metadata": {},
   "outputs": [],
   "source": [
    "df['labeled ratio'] = round(df['n'] / n_all, 2)"
   ]
  },
  {
   "cell_type": "code",
   "execution_count": 8,
   "id": "8f80ba8e",
   "metadata": {},
   "outputs": [
    {
     "data": {
      "image/png": "[encoded data removed]",
      "text/plain": [
       "<Figure size 1080x237.6 with 3 Axes>"
      ]
     },
     "metadata": {},
     "output_type": "display_data"
    }
   ],
   "source": [
    "make_width_coverage_plot(df, \"regression coefficient\", \"result/politeness.pdf\", theta_true, num_trials = num_trials, n_example_ind = 0)"
   ]
  },
  {
   "cell_type": "code",
   "execution_count": 9,
   "id": "bbc0641c",
   "metadata": {},
   "outputs": [
    {
     "name": "stdout",
     "output_type": "stream",
     "text": [
      "   classical       PPI     PPI++      EPPI       n\n",
      "0   0.108977  0.128764  0.101075  0.101211  1095.0\n",
      "1   0.102584  0.123201  0.095554  0.095584  1232.0\n",
      "2   0.097235  0.118878  0.091079  0.091110  1369.0\n",
      "3   0.092956  0.114801  0.086805  0.086789  1506.0\n",
      "4   0.088847  0.111821  0.083547  0.083513  1643.0\n"
     ]
    }
   ],
   "source": [
    "df_width = make_length_table(df)\n",
    "print(df_width)"
   ]
  },
  {
   "cell_type": "code",
   "execution_count": null,
   "id": "b8984903",
   "metadata": {},
   "outputs": [],
   "source": []
  }
 ],
 "metadata": {
  "kernelspec": {
   "display_name": "Python 3 (ipykernel)",
   "language": "python",
   "name": "python3"
  },
  "language_info": {
   "codemirror_mode": {
    "name": "ipython",
    "version": 3
   },
   "file_extension": ".py",
   "mimetype": "text/x-python",
   "name": "python",
   "nbconvert_exporter": "python",
   "pygments_lexer": "ipython3",
   "version": "3.9.12"
  }
 },
 "nbformat": 4,
 "nbformat_minor": 5
}
